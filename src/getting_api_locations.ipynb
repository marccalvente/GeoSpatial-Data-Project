{
 "cells": [
  {
   "cell_type": "code",
   "execution_count": 1,
   "id": "75bc6569",
   "metadata": {},
   "outputs": [],
   "source": [
    "import os\n",
    "import requests\n",
    "import json\n",
    "\n",
    "from dotenv import load_dotenv\n",
    "import pandas as pd\n",
    "import numpy as np\n",
    "\n",
    "from pymongo import MongoClient\n",
    "from pymongo import GEOSPHERE"
   ]
  },
  {
   "cell_type": "code",
   "execution_count": 2,
   "id": "f7403d0f",
   "metadata": {},
   "outputs": [],
   "source": [
    "san_fancisco_companies = pd.read_csv(\"../data/san_francisco_companies.csv\")"
   ]
  },
  {
   "cell_type": "code",
   "execution_count": 3,
   "id": "967010e8",
   "metadata": {},
   "outputs": [],
   "source": [
    "new_york_companies = pd.read_csv(\"../data/new_york_companies.csv\")"
   ]
  },
  {
   "cell_type": "code",
   "execution_count": 4,
   "id": "01c1df27",
   "metadata": {},
   "outputs": [
    {
     "data": {
      "text/plain": [
       "True"
      ]
     },
     "execution_count": 4,
     "metadata": {},
     "output_type": "execute_result"
    }
   ],
   "source": [
    "load_dotenv()"
   ]
  },
  {
   "cell_type": "code",
   "execution_count": 5,
   "id": "da13aa31",
   "metadata": {},
   "outputs": [],
   "source": [
    "token_fsq = os.getenv(\"foursquare_token\")"
   ]
  },
  {
   "cell_type": "markdown",
   "id": "11d806c4",
   "metadata": {},
   "source": [
    "#### The foursquare filters will be the following:"
   ]
  },
  {
   "cell_type": "markdown",
   "id": "ed212caf",
   "metadata": {},
   "source": [
    "For the parents\n",
    "\n",
    "    category = 12056,12058\n",
    "        12056 - Preschool\n",
    "        12058 - Elementary School\n",
    "\n",
    "Travel Airport\n",
    "\n",
    "    category = 19037\n",
    "        19037 - Airport terminal\n",
    "\n",
    "Travel Train\n",
    "\n",
    "    category = \"19022,19047\"\n",
    "        19022 - Platform\n",
    "        19047 - Rail Station\n",
    "\n",
    "For dancing\n",
    "\n",
    "    category = 10032, 10013\n",
    "        10032 - Night Club\n",
    "        10013 - Dance Hall\n",
    "\n",
    "For the maintenance guy\n",
    "\n",
    "    query = \"basketball\"\n",
    "    category = 10051\n",
    "        10051 - Stadium\n",
    "\n",
    "For the dog\n",
    "\n",
    "    category = 11134\n",
    "        11134 - Pet Grooming Service\n",
    "\n",
    "\n",
    "Some lettuce for the CEO\n",
    "\n",
    "    category = 13377\n",
    "        13377 - Vegan Restaurant"
   ]
  },
  {
   "cell_type": "code",
   "execution_count": 6,
   "id": "1376eca8",
   "metadata": {},
   "outputs": [],
   "source": [
    "def get_distance (latitude, longitude, query=\"\", category=\"\", limit=1):\n",
    "    \"\"\" \n",
    "        inputs: latitude to search around.\n",
    "                longitude to search around.\n",
    "                *optional* query: a kind of place to search for.\n",
    "                *optional* category: a foursquare category to search for.\n",
    "                *optional* limit: limit of results to return, 1 by default.\n",
    "                \n",
    "        output: An integer, the distance to the closest location of the kind searched for.\n",
    "                Note: If no location is found it returns 10000.\n",
    "    \"\"\"\n",
    "    \n",
    "    if query != \"\":\n",
    "        query = f\"query={query}&\"\n",
    "    \n",
    "    if category != \"\":\n",
    "        category = f\"&categories={category}\"\n",
    "        \n",
    "    # Doing the call for foursquare     \n",
    "    ll = f\"{latitude}%2C{longitude}\"\n",
    "    url = f\"https://api.foursquare.com/v3/places/search?{query}ll={ll}{category}&sort=DISTANCE&limit={str(limit)}\"\n",
    "\n",
    "    headers = {\n",
    "        \"accept\": \"application/json\",\n",
    "        \"Authorization\": token_fsq,\n",
    "    }\n",
    "    \n",
    "    response = requests.get(url, headers=headers).json()\n",
    "    \n",
    "    if response[\"results\"] == []:\n",
    "        return 10000\n",
    "    else:\n",
    "        return int(response[\"results\"][0][\"distance\"])"
   ]
  },
  {
   "cell_type": "code",
   "execution_count": 7,
   "id": "88a69734",
   "metadata": {},
   "outputs": [],
   "source": [
    "def add_distance_column(dataframe, new_column, query=\"\", category=\"\"):\n",
    "    \"\"\"\n",
    "        inputs: A DataFrame to append the new column with distance.\n",
    "                The name of the new column.\n",
    "                *optional* query: a kind of place to search for.\n",
    "                *optional* category: a foursquare category to search for.\n",
    "                \n",
    "        output: The DataFrame with a new column including the distance to the nearest place found.\n",
    "        returns None\n",
    "    \"\"\"\n",
    "    distances_list = []\n",
    "    \n",
    "    for index, row in dataframe.iterrows():\n",
    "        distances_list.append(get_distance(row[\"latitude\"], row[\"longitude\"], query=query, category=category))\n",
    "        \n",
    "    dataframe[f\"{new_column}\"] = distances_list\n",
    "    \n",
    "    return None"
   ]
  },
  {
   "cell_type": "markdown",
   "id": "9875b05b",
   "metadata": {},
   "source": [
    "####  Add distance to closest school"
   ]
  },
  {
   "cell_type": "code",
   "execution_count": 8,
   "id": "82ba84f3",
   "metadata": {},
   "outputs": [],
   "source": [
    "add_distance_column(san_fancisco_companies, \"school_distance\", category=\"12056,12058\")\n",
    "add_distance_column(new_york_companies, \"school_distance\", category=\"12056,12058\")"
   ]
  },
  {
   "cell_type": "markdown",
   "id": "836a7c15",
   "metadata": {},
   "source": [
    "#### Add distance to closest airport"
   ]
  },
  {
   "cell_type": "code",
   "execution_count": 9,
   "id": "a9fefbd0",
   "metadata": {},
   "outputs": [],
   "source": [
    "add_distance_column(san_fancisco_companies, \"airport_distance\", category=\"19037\")\n",
    "add_distance_column(new_york_companies, \"airport_distance\", category=\"19037\")"
   ]
  },
  {
   "cell_type": "markdown",
   "id": "76b84f81",
   "metadata": {},
   "source": [
    "#### Add distance to closest train station"
   ]
  },
  {
   "cell_type": "code",
   "execution_count": 10,
   "id": "83cf6065",
   "metadata": {},
   "outputs": [],
   "source": [
    "add_distance_column(san_fancisco_companies, \"train_distance\", category=\"19022,19047\")\n",
    "add_distance_column(new_york_companies, \"train_distance\", category=\"19022,19047\")"
   ]
  },
  {
   "cell_type": "markdown",
   "id": "87a8385e",
   "metadata": {},
   "source": [
    "#### Add distance to closest nigth club"
   ]
  },
  {
   "cell_type": "code",
   "execution_count": 11,
   "id": "59b29b0e",
   "metadata": {},
   "outputs": [],
   "source": [
    "add_distance_column(san_fancisco_companies, \"club_distance\", category=\"10032, 10013\")\n",
    "add_distance_column(new_york_companies, \"club_distance\", category=\"10032, 10013\")"
   ]
  },
  {
   "cell_type": "markdown",
   "id": "21ed54fd",
   "metadata": {},
   "source": [
    "#### Add distance to closes vegan restaurant"
   ]
  },
  {
   "cell_type": "code",
   "execution_count": 12,
   "id": "dd63aa97",
   "metadata": {},
   "outputs": [],
   "source": [
    "add_distance_column(san_fancisco_companies, \"vegan_distance\", category=\"13377\")\n",
    "add_distance_column(new_york_companies, \"vegan_distance\", category=\"13377\")"
   ]
  },
  {
   "cell_type": "markdown",
   "id": "b5bd7ccd",
   "metadata": {},
   "source": [
    "#### Add distance to basketball stadium"
   ]
  },
  {
   "cell_type": "code",
   "execution_count": 13,
   "id": "8e6a4b95",
   "metadata": {},
   "outputs": [],
   "source": [
    "add_distance_column(san_fancisco_companies, \"stadium_distance\", query=\"basketball\", category=\"10051\")\n",
    "add_distance_column(new_york_companies, \"stadium_distance\", query=\"basketball\", category=\"10051\")"
   ]
  },
  {
   "cell_type": "markdown",
   "id": "7a1f0e2f",
   "metadata": {},
   "source": [
    "#### Add distance to pet groomer"
   ]
  },
  {
   "cell_type": "code",
   "execution_count": 14,
   "id": "0c7c83cf",
   "metadata": {},
   "outputs": [],
   "source": [
    "add_distance_column(san_fancisco_companies, \"pet_groomer_distance\", category=\"11134\")\n",
    "add_distance_column(new_york_companies, \"pet_groomer_distance\", category=\"11134\")"
   ]
  },
  {
   "cell_type": "markdown",
   "id": "c1263e33",
   "metadata": {},
   "source": [
    "#### Add location center per city"
   ]
  },
  {
   "cell_type": "code",
   "execution_count": 112,
   "id": "4df6a7ef",
   "metadata": {},
   "outputs": [],
   "source": [
    "san_fancisco_latitude_mean = san_fancisco_companies[\"latitude\"].mean()\n",
    "san_fancisco_longitude_mean = san_fancisco_companies[\"longitude\"].mean()\n",
    "new_york_latitude_mean = new_york_companies[\"latitude\"].mean()\n",
    "new_york_longitude_mean = new_york_companies[\"longitude\"].mean()"
   ]
  },
  {
   "cell_type": "markdown",
   "id": "a76ee9f3",
   "metadata": {},
   "source": [
    "#### Concatenate Dataframes"
   ]
  },
  {
   "cell_type": "code",
   "execution_count": 67,
   "id": "3e90c3d8",
   "metadata": {
    "scrolled": true
   },
   "outputs": [],
   "source": [
    "san_fancisco_companies.drop(\"proximity_index\", axis=1, inplace=True)\n",
    "new_york_companies.drop(\"proximity_index\", axis=1, inplace=True)"
   ]
  },
  {
   "cell_type": "code",
   "execution_count": 68,
   "id": "d3a5568b",
   "metadata": {},
   "outputs": [],
   "source": [
    "candidate_companies = pd.concat([san_fancisco_companies, new_york_companies])"
   ]
  },
  {
   "cell_type": "code",
   "execution_count": 79,
   "id": "074620d7",
   "metadata": {},
   "outputs": [],
   "source": [
    "def add_normalized_column(dataframe, column_name):\n",
    "    \"\"\"\n",
    "        inputs: a DataFrame\n",
    "                a column with distances to be normalized\n",
    "                \n",
    "        output: the DataFrame with the distances normalized.\n",
    "        \n",
    "        *returns None\n",
    "    \"\"\"\n",
    "    \n",
    "    normalized_distances_list = []\n",
    "    \n",
    "    max_in_column =  dataframe[f\"{column_name}\"].max()\n",
    "    \n",
    "    for index, row in dataframe.iterrows():\n",
    "        normalized_distances_list.append(row[f\"{column_name}\"]/max_in_column)\n",
    "        \n",
    "    dataframe[f\"{column_name}_normalized\"] = normalized_distances_list\n",
    "    \n",
    "    return None"
   ]
  },
  {
   "cell_type": "code",
   "execution_count": 85,
   "id": "b0aa2781",
   "metadata": {},
   "outputs": [],
   "source": [
    "distances_list = ['school_distance', 'airport_distance', 'train_distance', \n",
    "                  'club_distance', 'vegan_distance', 'stadium_distance',\n",
    "                    'pet_groomer_distance']"
   ]
  },
  {
   "cell_type": "code",
   "execution_count": 86,
   "id": "566c52a3",
   "metadata": {},
   "outputs": [],
   "source": [
    "for distance in distances_list:\n",
    "    add_normalized_column(candidate_companies, distance)"
   ]
  },
  {
   "cell_type": "code",
   "execution_count": 119,
   "id": "e6289f41",
   "metadata": {},
   "outputs": [],
   "source": [
    "def calculate_proximity_index(dataframe):\n",
    "    \"\"\"\n",
    "        input: a DataFrame with distances to different locations.\n",
    "        output: the DataFrame including the proximity index as a new column\n",
    "    \"\"\"\n",
    "    proximity_index = (\n",
    "        0.25 * dataframe.school_distance_normalized +\n",
    "        0.10 * dataframe.airport_distance_normalized +\n",
    "        0.25 * dataframe.train_distance_normalized +\n",
    "        0.20 * dataframe.club_distance_normalized +\n",
    "        0.1 * dataframe.vegan_distance_normalized +\n",
    "        0.05 * dataframe.stadium_distance_normalized +\n",
    "        0.05 * dataframe.pet_groomer_distance_normalized\n",
    "    )\n",
    "    \n",
    "    return round(100 - proximity_index*100, 2)"
   ]
  },
  {
   "cell_type": "markdown",
   "id": "6ce67972",
   "metadata": {},
   "source": [
    "#### Calculating the proximity index"
   ]
  },
  {
   "cell_type": "code",
   "execution_count": null,
   "id": "8e6365b8",
   "metadata": {},
   "outputs": [],
   "source": [
    "candidate_companies[\"proximity_index\"] = calculate_proximity_index(candidate_companies)"
   ]
  },
  {
   "cell_type": "code",
   "execution_count": 123,
   "id": "0c04c777",
   "metadata": {},
   "outputs": [
    {
     "data": {
      "text/html": [
       "<div>\n",
       "<style scoped>\n",
       "    .dataframe tbody tr th:only-of-type {\n",
       "        vertical-align: middle;\n",
       "    }\n",
       "\n",
       "    .dataframe tbody tr th {\n",
       "        vertical-align: top;\n",
       "    }\n",
       "\n",
       "    .dataframe thead th {\n",
       "        text-align: right;\n",
       "    }\n",
       "</style>\n",
       "<table border=\"1\" class=\"dataframe\">\n",
       "  <thead>\n",
       "    <tr style=\"text-align: right;\">\n",
       "      <th></th>\n",
       "      <th>name</th>\n",
       "      <th>total_money_raised</th>\n",
       "      <th>city</th>\n",
       "      <th>country_code</th>\n",
       "      <th>latitude</th>\n",
       "      <th>longitude</th>\n",
       "      <th>school_distance</th>\n",
       "      <th>airport_distance</th>\n",
       "      <th>train_distance</th>\n",
       "      <th>club_distance</th>\n",
       "      <th>...</th>\n",
       "      <th>stadium_distance</th>\n",
       "      <th>pet_groomer_distance</th>\n",
       "      <th>school_distance_normalized</th>\n",
       "      <th>airport_distance_normalized</th>\n",
       "      <th>train_distance_normalized</th>\n",
       "      <th>club_distance_normalized</th>\n",
       "      <th>vegan_distance_normalized</th>\n",
       "      <th>stadium_distance_normalized</th>\n",
       "      <th>pet_groomer_distance_normalized</th>\n",
       "      <th>proximity_index</th>\n",
       "    </tr>\n",
       "  </thead>\n",
       "  <tbody>\n",
       "    <tr>\n",
       "      <th>37</th>\n",
       "      <td>Ramp Up Tech</td>\n",
       "      <td>0.0</td>\n",
       "      <td>New York</td>\n",
       "      <td>USA</td>\n",
       "      <td>40.746514</td>\n",
       "      <td>-73.993035</td>\n",
       "      <td>674</td>\n",
       "      <td>4454</td>\n",
       "      <td>338</td>\n",
       "      <td>226</td>\n",
       "      <td>...</td>\n",
       "      <td>472</td>\n",
       "      <td>376</td>\n",
       "      <td>0.085685</td>\n",
       "      <td>0.291759</td>\n",
       "      <td>0.036042</td>\n",
       "      <td>0.024961</td>\n",
       "      <td>0.0084</td>\n",
       "      <td>0.055412</td>\n",
       "      <td>0.029898</td>\n",
       "      <td>93.03</td>\n",
       "    </tr>\n",
       "  </tbody>\n",
       "</table>\n",
       "<p>1 rows × 21 columns</p>\n",
       "</div>"
      ],
      "text/plain": [
       "            name  total_money_raised      city country_code   latitude  \\\n",
       "37  Ramp Up Tech                 0.0  New York          USA  40.746514   \n",
       "\n",
       "    longitude  school_distance  airport_distance  train_distance  \\\n",
       "37 -73.993035              674              4454             338   \n",
       "\n",
       "    club_distance  ...  stadium_distance  pet_groomer_distance  \\\n",
       "37            226  ...               472                   376   \n",
       "\n",
       "    school_distance_normalized  airport_distance_normalized  \\\n",
       "37                    0.085685                     0.291759   \n",
       "\n",
       "    train_distance_normalized  club_distance_normalized  \\\n",
       "37                   0.036042                  0.024961   \n",
       "\n",
       "    vegan_distance_normalized  stadium_distance_normalized  \\\n",
       "37                     0.0084                     0.055412   \n",
       "\n",
       "    pet_groomer_distance_normalized  proximity_index  \n",
       "37                         0.029898            93.03  \n",
       "\n",
       "[1 rows x 21 columns]"
      ]
     },
     "execution_count": 123,
     "metadata": {},
     "output_type": "execute_result"
    }
   ],
   "source": [
    "candidate_companies[candidate_companies[\"proximity_index\"] == candidate_companies[\"proximity_index\"].max()]"
   ]
  },
  {
   "cell_type": "markdown",
   "id": "132d3f0e",
   "metadata": {},
   "source": [
    "### The best location for the company is (40.746514, -73.993035) in New York"
   ]
  }
 ],
 "metadata": {
  "kernelspec": {
   "display_name": "ironhack",
   "language": "python",
   "name": "ironhack"
  },
  "language_info": {
   "codemirror_mode": {
    "name": "ipython",
    "version": 3
   },
   "file_extension": ".py",
   "mimetype": "text/x-python",
   "name": "python",
   "nbconvert_exporter": "python",
   "pygments_lexer": "ipython3",
   "version": "3.9.12"
  }
 },
 "nbformat": 4,
 "nbformat_minor": 5
}
